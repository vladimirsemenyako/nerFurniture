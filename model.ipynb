{
 "cells": [
  {
   "metadata": {},
   "cell_type": "markdown",
   "source": "1. Импорт необходимых библиотек",
   "id": "7efe8250aae65b88"
  },
  {
   "metadata": {
    "collapsed": true,
    "ExecuteTime": {
     "end_time": "2024-10-04T13:49:27.149569Z",
     "start_time": "2024-10-04T13:49:25.080430Z"
    }
   },
   "cell_type": "code",
   "outputs": [],
   "execution_count": 1,
   "source": [
    "import json\n",
    "import spacy\n",
    "from spacy.tokens import DocBin\n",
    "from spacy.util import filter_spans\n",
    "from tqdm import tqdm\n",
    "import requests\n",
    "from bs4 import BeautifulSoup"
   ],
   "id": "initial_id"
  },
  {
   "metadata": {},
   "cell_type": "markdown",
   "source": "2. Загрузка модели и тренировочных данных",
   "id": "4dd711cce2c8c8b6"
  },
  {
   "metadata": {
    "ExecuteTime": {
     "end_time": "2024-10-04T13:49:35.159424Z",
     "start_time": "2024-10-04T13:49:32.416706Z"
    }
   },
   "cell_type": "code",
   "outputs": [],
   "execution_count": 2,
   "source": [
    "# Загрузка модели en_core_web_lg\n",
    "nlp = spacy.load('en_core_web_lg')\n",
    "\n",
    "# Загрузка тренировочных данных\n",
    "with open('datasetFurniture.json', 'r') as f:\n",
    "    data = json.load(f)\n",
    "\n",
    "training_data = []\n",
    "\n",
    "# Формируем тренировочные данные из JSON\n",
    "for elem in data:\n",
    "    temp_dict = {}\n",
    "    temp_dict['text'] = elem['name']\n",
    "    temp_dict['entities'] = []\n",
    "    for label in elem['label']:\n",
    "        start = label['start']\n",
    "        end = label['end']\n",
    "        label = label['labels'][0].upper()\n",
    "        temp_dict['entities'].append((start, end, label))\n",
    "    training_data.append(temp_dict)"
   ],
   "id": "a1039db9a582510"
  },
  {
   "metadata": {},
   "cell_type": "markdown",
   "source": "3. Создание пустой модели SpaCy и подготовка документов",
   "id": "f150d658194358f4"
  },
  {
   "metadata": {
    "ExecuteTime": {
     "end_time": "2024-10-04T13:49:50.814971Z",
     "start_time": "2024-10-04T13:49:50.611773Z"
    }
   },
   "cell_type": "code",
   "source": [
    "# Создание пустой модели Spacy\n",
    "nlp = spacy.blank('en')\n",
    "\n",
    "# Подготовка для хранения документов\n",
    "doc_bin = DocBin()\n",
    "\n",
    "# Преобразование тренировочных данных в документы Spacy\n",
    "for training_example in tqdm(training_data):\n",
    "    text = training_example['text']\n",
    "    labels = training_example['entities']\n",
    "    doc = nlp.make_doc(text)\n",
    "    ents = []\n",
    "    for start, end, label in labels:\n",
    "        span = doc.char_span(start, end, label=label, alignment_mode='contract')\n",
    "        if span is None:\n",
    "            continue\n",
    "        else:\n",
    "            ents.append(span)\n",
    "    filtered_ents = filter_spans(ents)\n",
    "    doc.ents = filtered_ents\n",
    "    doc_bin.add(doc)"
   ],
   "id": "3806bc004e147052",
   "outputs": [
    {
     "name": "stderr",
     "output_type": "stream",
     "text": [
      "100%|██████████| 136/136 [00:00<00:00, 3159.73it/s]\n"
     ]
    }
   ],
   "execution_count": 3
  },
  {
   "metadata": {},
   "cell_type": "markdown",
   "source": "4. Сохранение в бинарный формат",
   "id": "ef3ac8d367d9c8a7"
  },
  {
   "metadata": {
    "ExecuteTime": {
     "end_time": "2024-10-04T13:50:08.124234Z",
     "start_time": "2024-10-04T13:50:08.112628Z"
    }
   },
   "cell_type": "code",
   "source": [
    "# Сохранение в бинарный формат\n",
    "doc_bin.to_disk(\"train.spacy\")"
   ],
   "id": "504b568c8e125258",
   "outputs": [],
   "execution_count": 4
  },
  {
   "metadata": {},
   "cell_type": "markdown",
   "source": "5. Загрузка обученной модели NER",
   "id": "8ee5f1a725d11ddc"
  },
  {
   "metadata": {
    "ExecuteTime": {
     "end_time": "2024-10-04T13:50:24.256981Z",
     "start_time": "2024-10-04T13:50:22.741344Z"
    }
   },
   "cell_type": "code",
   "source": [
    "# Загрузка обученной модели NER\n",
    "nlp_ner = spacy.load(\"model-best\")"
   ],
   "id": "e621128a1198af19",
   "outputs": [],
   "execution_count": 5
  },
  {
   "metadata": {},
   "cell_type": "markdown",
   "source": "6. Функция для парсинга веб-сайта и извлечения сущностей",
   "id": "307b8d659a3601e8"
  },
  {
   "metadata": {
    "ExecuteTime": {
     "end_time": "2024-10-04T13:50:36.593230Z",
     "start_time": "2024-10-04T13:50:36.585985Z"
    }
   },
   "cell_type": "code",
   "source": [
    "# Функция для парсинга веб-сайта и извлечения сущностей типа PRODUCT\n",
    "def parse_website(url):\n",
    "    # 1. Загрузить HTML-контент с сайта\n",
    "    response = requests.get(url)\n",
    "\n",
    "    if response.status_code == 200:\n",
    "        html_content = response.text\n",
    "    else:\n",
    "        print(f\"Ошибка при загрузке страницы: {response.status_code}\")\n",
    "        return None\n",
    "\n",
    "    # 2. Извлечь текст из HTML с помощью BeautifulSoup\n",
    "    soup = BeautifulSoup(html_content, 'html.parser')\n",
    "    texts = soup.stripped_strings  # Извлекаем все текстовые строки\n",
    "    full_text = \" \".join(texts)  # Собираем их в один текст\n",
    "\n",
    "    # 3. Применить модель NER для извлечения сущностей\n",
    "    doc = nlp_ner(full_text)\n",
    "\n",
    "    # 4. Найти все сущности типа PRODUCT и удалить дубликаты\n",
    "    products = [ent.text for ent in doc.ents if ent.label_ == \"PRODUCT\"]\n",
    "    unique_products = list(set(products))  # Удаление дубликатов\n",
    "\n",
    "    return unique_products"
   ],
   "id": "bb278fa94c9c1705",
   "outputs": [],
   "execution_count": 6
  },
  {
   "metadata": {},
   "cell_type": "markdown",
   "source": "7. Пример использования функции",
   "id": "d339077be07b94d7"
  },
  {
   "metadata": {
    "ExecuteTime": {
     "end_time": "2024-10-04T13:54:35.602034Z",
     "start_time": "2024-10-04T13:54:30.934471Z"
    }
   },
   "cell_type": "code",
   "source": [
    "# Пример использования функции\n",
    "url = \"https://www.factorybuys.com.au/products/euro-top-mattress-king\"\n",
    "products = parse_website(url)\n",
    "counter = 0\n",
    "if products:\n",
    "    print(\"Найденные сущности типа PRODUCT (без дубликатов):\")\n",
    "    for product in products:\n",
    "        # Ограничение поля для сокращения вывода в целях читаемости\n",
    "        if counter < 10:\n",
    "            print(f\"- {product}\")\n",
    "            counter += 1\n",
    "else:\n",
    "    print(\"Сущностей типа PRODUCT не найдено.\")"
   ],
   "id": "5e0ac915ab58db8a",
   "outputs": [
    {
     "name": "stdout",
     "output_type": "stream",
     "text": [
      "Найденные сущности типа PRODUCT (без дубликатов):\n",
      "- Wall Clocks Mirrors\n",
      "- Gas Lift Storage\n",
      "- Benches Plastic Stools\n",
      "- Velvet Armchairs\n",
      "- Bedroom Furniture Bed\n",
      "- Bedroom Play Mats Change Tables\n",
      "- Bed Safety\n",
      "- Double Mattress Toppers\n",
      "- King Quilt Covers King Sheets King Mattress Protectors King Mattress Toppers\n",
      "- Pool Accessories Outdoor & Camping Outdoor\n"
     ]
    }
   ],
   "execution_count": 9
  }
 ],
 "metadata": {
  "kernelspec": {
   "display_name": "Python 3",
   "language": "python",
   "name": "python3"
  },
  "language_info": {
   "codemirror_mode": {
    "name": "ipython",
    "version": 2
   },
   "file_extension": ".py",
   "mimetype": "text/x-python",
   "name": "python",
   "nbconvert_exporter": "python",
   "pygments_lexer": "ipython2",
   "version": "2.7.6"
  }
 },
 "nbformat": 4,
 "nbformat_minor": 5
}
